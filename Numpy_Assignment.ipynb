{
  "nbformat": 4,
  "nbformat_minor": 0,
  "metadata": {
    "colab": {
      "provenance": []
    },
    "kernelspec": {
      "name": "python3",
      "display_name": "Python 3"
    },
    "language_info": {
      "name": "python"
    }
  },
  "cells": [
    {
      "cell_type": "markdown",
      "source": [
        "**Theoretical Questions**\n",
        "\n",
        "Q.1 Explain the purpose and advantages of NumPy in scientific computing and data analysis. How does it\n",
        "enhance Python's capabilities for numerical operations?\n",
        "\n",
        "Ans. NumPy, short for \"Numerical Python,\" is essentially a core library in Python uniquely developed for efficient numerical computations, with large datasets, making it the foundation of scientific computing and data analysis by offering high-performance multi-dimensional arrays and a wide range of mathematical functions, greatly extending Python's capability for numerical operations, increasing speed, optimized usage of memory compared to standard Python lists.\n",
        "\n",
        "\n",
        "**Key advantages of NumPy:**\n",
        "\n",
        "1.Speed and Efficiency:\n",
        "\n",
        "NumPy arrays are implemented in C; therefore, operations on them are much faster than using standard Python lists-very significant performance differences when dealing with large datasets and complex calculations.\n",
        "\n",
        "2.Efficiency Memory:\n",
        "\n",
        "They store data in contiguous blocks of memory, which allows for fewer overheads and much better memory usage than Python lists.\n",
        "\n",
        "3.Vectorized Operations:\n",
        "\n",
        "NumPy achieves element-wise operations across entire arrays, obliterating the need for explicit loops in code and thereby providing a concise, efficient way to achieve complex mathematical computations.\n",
        "\n",
        "4.Broadcasting:\n",
        "\n",
        "NumPy's broadcasting feature enables operations between arrays of different shapes, simplifying data manipulation and reducing the need for manual looping.\n",
        "\n",
        "5.Precise Mathematical Functionality:\n",
        "\n",
        "NumPy provides an array of mathematical functions including linear algebra operations, trigonometric functions, statistical calculations, among many others that can be applied directly to the arrays.\n",
        "\n",
        "6.Integration with other libraries:\n",
        "\n",
        "It combines quite well with other scientific Python libraries like SciPy, Matplotlib for advanced mathematical functions and visualization, and Pandas for further data analysis, thereby making an amazing data science ecosystem.\n",
        "\n",
        "**How NumPy Improves Python for Numerical Computation**\n",
        "\n",
        "1.Handling High-Dimensional Datasets:\n",
        "\n",
        "NumPy arrays are optimized for handling large datasets efficiently, making it ideal for scientific computing tasks that involve complex calculations on large volumes of data.\n",
        "\n",
        "2.Simplified Code:\n",
        "\n",
        "NumPy allows the possibility to write compact, readable code by providing vectorized operations in such a way that explicit loops are avoided in most cases.\n",
        "\n",
        "3.Skill Boost:\n",
        "\n",
        "The use of NumPy arrays also has its underlying C implementation to attain tremendous speedup over standard Python lists for numerical computations.\n",
        "\n",
        "**Example Use Cases:**\n",
        "\n",
        "1.Calculation of descriptive statistics, such as mean, standard deviation, and variance, on a large dataset.\n",
        "\n",
        "2.Implement matrix operations to the neural network, play around with array format of training data.\n",
        "\n",
        "3.Signal Processing: Fourier transforms for signal analysis\n",
        "Scientific modeling: From solving differential equations to doing complex simulations.\n",
        "\n",
        "In a word, NumPy is that critical piece of science and data processing in Python that brings inside powerful and efficient ways to conduct numeric operations on large-size data to serve as a cornerstone of many applications for data science and machine learning."
      ],
      "metadata": {
        "id": "t9RCOMK4rm5w"
      }
    },
    {
      "cell_type": "markdown",
      "source": [
        "Q.2 Compare and contrast np.mean() and np.average() functions in NumPy. When would you use one over the\n",
        "other?\n",
        "\n",
        "Ans. **np.mean() vs np.average() in NumPy**\n",
        "\n",
        "\n",
        "`np.mean()` and `np.average()` are two functions in NumPy that compute the average of an array. They present two different functionalities as well as types of averages.\n",
        "\n",
        "**np.mean()**\n",
        "\n",
        "\n",
        "Purpose: Calculates the arithmetic mean of an array.\n",
        "Functionality:\n",
        "It accepts an array.\n",
        "It calculates the summation of all elements of the array.\n",
        "- It goes ahead to divide the sum by the number of elements to get the arithmetic mean.\n",
        "- Optionally: specify an axis on which the mean should be computed.\n",
        "- Optionally, pass an axis along which to compute.\n",
        "\n",
        " **np.average()**\n",
        "\n",
        " It can calculate both arithmetic and weighted averages\n",
        " Functions\n",
        " - accepts any array and an optional `weights` array\n",
        " - If `weights` are not specified, it returns the arithmetic mean just like  `np.mean()`.\n",
        "- If `weights` is given, it returns the weighted average:\n",
        " ```\n",
        "    weighted_average = (sum(x * w)) / sum(w)\n",
        "    ```\n",
        " - Optionally, one can also specify an axis to compute the mean along a particular axis.\n",
        "\n",
        "**Differences in Function:**\n",
        "\n",
        "Feature np.mean() np.average()\n",
        "\n",
        "**Average Type** Arithmetic mean Arithmetic or weighted average\n",
        "| Supports Weights | Does not support weights |\n",
        "\n",
        "**Flexibility** | Less Flexible | More Flexible |\n",
        "\n",
        "**When to Use Which:**\n",
        "\n",
        "* **np.mean()**: Use this function if you require simple arithmetic mean computation for an array\n",
        "* **np.average()**: Use this function if you require weighted average computations or if some flexibility is required in computing different averages.\n",
        "\n",
        "\n",
        "\n",
        "# Using np.mean() for calculating mean value\n",
        "mean_value = np.mean(arr)\n",
        "print(\"Mean Value:\", mean_value)\n",
        "\n",
        "# Using np.average() to calculate weighted average\n",
        "weights = np.array([1, 2, 3, 4, 5])\n",
        "weighted_mean = np.average(arr, weights=weights)\n",
        "print(\"Weighted Mean:\", weighted_mean)\n",
        "END\n",
        "\n",
        "\n"
      ],
      "metadata": {
        "id": "OyUD3dO6v4DN"
      }
    },
    {
      "cell_type": "code",
      "execution_count": null,
      "metadata": {
        "id": "fdyMcZT9rLVW",
        "colab": {
          "base_uri": "https://localhost:8080/"
        },
        "outputId": "97f9b3e7-e417-4fe0-8e83-de12f96c2dd5"
      },
      "outputs": [
        {
          "output_type": "stream",
          "name": "stdout",
          "text": [
            "Arithmetic mean: 3.0\n",
            "Weighted mean: 3.6666666666666665\n"
          ]
        }
      ],
      "source": [
        "#Example\n",
        "import numpy as np\n",
        "\n",
        "# Sample array\n",
        "arr = np.array([1, 2, 3, 4, 5])\n",
        "\n",
        "# Arithmetic mean using np.mean()\n",
        "mean_value = np.mean(arr)\n",
        "print(\"Arithmetic mean:\", mean_value)\n",
        "\n",
        "# Weighted average using np.average()\n",
        "weights = np.array([1, 2, 3, 4, 5])\n",
        "weighted_mean = np.average(arr, weights=weights)\n",
        "print(\"Weighted mean:\", weighted_mean)"
      ]
    },
    {
      "cell_type": "markdown",
      "source": [
        "In conclusion, it appears that both functions can be used to calculate the average of an array, but `np.average()` provides flexibility in that it can compute weighted averages. Use whichever function fits your needs and the kind of average you would like to calculate."
      ],
      "metadata": {
        "id": "uhVTxHpurl3W"
      }
    },
    {
      "cell_type": "markdown",
      "source": [
        "Q.3 Describe the methods for reversing a NumPy array along different axes. Provide examples for 1D and 2D\n",
        "arrays.\n",
        "\n",
        "Ans. Reversing NumPy Arrays Along Different Axes\n",
        "\n",
        "NumPy provides efficient methods to reverse along specified axes in arrays. This is one of the very basic operations and is used extensively in all data manipulation operations, from image processing, signal processing, and machine learning, among others.\n",
        "\n",
        "**1.Reversing a 1D Array**\n",
        "\n",
        "To reverse a 1D array, we can simply use the [::-1] slicing syntax:\n"
      ],
      "metadata": {
        "id": "z2p7uecXgQ7a"
      }
    },
    {
      "cell_type": "code",
      "source": [
        "import numpy as np\n",
        "\n",
        "arr = np.array([1, 2, 3, 4, 5])\n",
        "reversed_arr = arr[::-1]\n",
        "print(reversed_arr)  # Output: [5 4 3 2 1]"
      ],
      "metadata": {
        "colab": {
          "base_uri": "https://localhost:8080/"
        },
        "id": "vdY8AzCzgvM8",
        "outputId": "b4714494-1587-4b3c-ef81-531ce31fae1d"
      },
      "execution_count": null,
      "outputs": [
        {
          "output_type": "stream",
          "name": "stdout",
          "text": [
            "[5 4 3 2 1]\n"
          ]
        }
      ]
    },
    {
      "cell_type": "markdown",
      "source": [
        "**2.Reversing a 2D Array**\n",
        "\n",
        "For 2D arrays, we can reverse along rows or columns using the [::-1] slicing:\n",
        "\n",
        "Reversing rows:"
      ],
      "metadata": {
        "id": "hXnhuoAkgzGP"
      }
    },
    {
      "cell_type": "code",
      "source": [
        "arr = np.array([[1, 2, 3],\n",
        "                [4, 5, 6],\n",
        "                [7, 8, 9]])\n",
        "\n",
        "reversed_rows = arr[::-1, :]\n",
        "print(reversed_rows)"
      ],
      "metadata": {
        "colab": {
          "base_uri": "https://localhost:8080/"
        },
        "id": "eifLso_XgyJo",
        "outputId": "056f3e76-6029-4594-8a81-9b5d62ac285c"
      },
      "execution_count": null,
      "outputs": [
        {
          "output_type": "stream",
          "name": "stdout",
          "text": [
            "[[7 8 9]\n",
            " [4 5 6]\n",
            " [1 2 3]]\n"
          ]
        }
      ]
    },
    {
      "cell_type": "markdown",
      "source": [
        "Reversing columns:"
      ],
      "metadata": {
        "id": "GnrnvzEJhLYP"
      }
    },
    {
      "cell_type": "code",
      "source": [
        "reversed_cols = arr[:, ::-1]\n",
        "print(reversed_cols)"
      ],
      "metadata": {
        "colab": {
          "base_uri": "https://localhost:8080/"
        },
        "id": "HOi3iBCwhHjS",
        "outputId": "7d4339f3-08db-4f4a-f878-cf7a7a559008"
      },
      "execution_count": null,
      "outputs": [
        {
          "output_type": "stream",
          "name": "stdout",
          "text": [
            "[[3 2 1]\n",
            " [6 5 4]\n",
            " [9 8 7]]\n"
          ]
        }
      ]
    },
    {
      "cell_type": "markdown",
      "source": [
        "Reversing both rows and columns:"
      ],
      "metadata": {
        "id": "PHlJgCBYhRaS"
      }
    },
    {
      "cell_type": "code",
      "source": [
        "reversed_both = arr[::-1, ::-1]\n",
        "print(reversed_both)"
      ],
      "metadata": {
        "colab": {
          "base_uri": "https://localhost:8080/"
        },
        "id": "q2fCbgmphOX3",
        "outputId": "04b7e0c0-9d38-46e4-8d1a-3e2e1c96e9e7"
      },
      "execution_count": null,
      "outputs": [
        {
          "output_type": "stream",
          "name": "stdout",
          "text": [
            "[[9 8 7]\n",
            " [6 5 4]\n",
            " [3 2 1]]\n"
          ]
        }
      ]
    },
    {
      "cell_type": "markdown",
      "source": [
        "General Approach for Higher-Dimensional Arrays:\n",
        "\n",
        "For higher-dimensional arrays, we can use the np.flip() function, which takes an array and an axis as input:"
      ],
      "metadata": {
        "id": "ZRbvIu03hYeN"
      }
    },
    {
      "cell_type": "code",
      "source": [
        "arr = np.random.rand(3, 4, 2)\n",
        "\n",
        "# Reversing along the first axis (rows)\n",
        "reversed_first_axis = np.flip(arr, axis=0)\n",
        "\n",
        "# Reversing along the second axis (columns)\n",
        "reversed_second_axis = np.flip(arr, axis=1)\n",
        "\n",
        "# Reversing along the last axis\n",
        "reversed_last_axis = np.flip(arr, axis=-1)"
      ],
      "metadata": {
        "id": "Z-hAImFChVKD"
      },
      "execution_count": null,
      "outputs": []
    },
    {
      "cell_type": "markdown",
      "source": [
        "Key Takeaways:\n",
        "\n",
        "1.The slicing[::-1] is the concise version of reversing arrays.\n",
        "\n",
        "2.Using np.flip() offers much greater flexibility, especially for higher dimensional arrays.\n",
        "\n",
        "3.When applying np.flip(), you specify axes along which to reverse the array using the axis parameter.\n",
        "\n",
        "4.Negative indices may be used to indicate axes from the end. For example, axis=-1 refers to the last axis.\n",
        "\n",
        "5.With a good feel for these methods, you can sort most mundane things in NumPy arrays to your whims.\n"
      ],
      "metadata": {
        "id": "75UyCW0shvHc"
      }
    },
    {
      "cell_type": "markdown",
      "source": [
        "Q.4  How can you determine the data type of elements in a NumPy array? Discuss the importance of data types\n",
        "in memory management and performance.\n",
        "\n",
        "Ans. Determining Data Types in NumPy Arrays\n",
        "\n",
        "In NumPy, you can determine the data type of elements in an array using the dtype attribute. Here's a simple example:"
      ],
      "metadata": {
        "id": "pp-rooA3iCgs"
      }
    },
    {
      "cell_type": "code",
      "source": [
        "import numpy as np\n",
        "\n",
        "# Create a NumPy array\n",
        "arr = np.array([1, 2, 3, 4, 5])\n",
        "\n",
        "# Print the data type\n",
        "print(arr.dtype)"
      ],
      "metadata": {
        "colab": {
          "base_uri": "https://localhost:8080/"
        },
        "id": "4vhwwWhthb0d",
        "outputId": "a67d0296-1f05-4fb7-d829-a43181e8c4e8"
      },
      "execution_count": null,
      "outputs": [
        {
          "output_type": "stream",
          "name": "stdout",
          "text": [
            "int64\n"
          ]
        }
      ]
    },
    {
      "cell_type": "markdown",
      "source": [
        "Importance of Data Type in Memory Management and Performance\n",
        "\n",
        "Data types are important for memory management as well as performance optimization in NumPy arrays:\n",
        "\n",
        "Memory Efficiency\n",
        "\n",
        "1.Smaller data types mean less memory: You can significantly reduce the amount of memory consumed by your arrays when you make the proper choice of data type. For example, half of the memory used by an integer array is consumed when you use int32 instead of int64.\n",
        "\n",
        "2.Efficient Memory Allocation: NumPy stores arrays in contiguous memory blocks, thus making memory access and cache usage efficient.\n",
        "\n",
        "Performance Optimization:\n",
        "\n",
        "1.Hardware-Oriented Operations: Many modern processors are optimized for specific data types. Code which uses the most appropriate data type can see incredible performance boosts.\n",
        "\n",
        "2.Vectorized Operations: The vectorized operations of NumPy are very efficient, especially with homogeneous data types. This accelerates computations and reduces overhead.\n",
        "\n",
        "3.Memory Bandwidth: The data type for the smaller data types can be moved between memory and the processor with lower memory bandwidth, and it generally improves performance.\n",
        "\n",
        "Precision and Range:\n",
        "\n",
        "1.Select the Appropriate Precision: Select the data type such that you get enough precision for representing your data, but lose no information.\n",
        "\n",
        "Important Factors:\n",
        "\n",
        "For a particular problem, you can avoid overflows and underflows by getting a feel for the range of a data type.\n",
        "\n",
        "Default Data Types. NumPy data types are automatically inferred from the input data in most circumstances. Be careful of this automatic type deduction because it can result in inconsistent data types in certain situations.\n",
        "\n",
        "Explicit Data Type Specification. Data types can be explicitly declared at array creation time using the dtype argument. This allows for fine-grained tuning of memory usage and performance.\n",
        "\n",
        "Data Type Casting: You can perform data type casting using the astype method if that is required. However, remember that data type casting can suffer from potential precision loss as well as give overflows.\n",
        "\n",
        "So, if you think about data types carefully, you can build high-performance and efficient NumPy arrays that will simply solve your data analysis and scientific computing tasks effectively.\n"
      ],
      "metadata": {
        "id": "QLApj_XHifUj"
      }
    },
    {
      "cell_type": "markdown",
      "source": [
        "Q.5 Define ndarrays in NumPy and explain their key features. How do they differ from standard Python lists?\n",
        "\n",
        "Ans.**NumPy ndarrays: A Powerful Tool for Numerical Computing**\n",
        "\n",
        "Numerical computations using scientific computing and data analysis with Python are quite popular, and `ndarray` (n-dimensional array) of NumPy becomes the heart of this computation. The n-dimensional arrays offer highly efficient storage and manipulation of large datasets, making them indispensable for various numerical computations.\n",
        "\n",
        "**Key Features of Numpy ndarrays:**\n",
        "\n",
        "1.  **Multidimensional Arrays:**\n",
        "The most important feature is that ndarrays can be used for several different dimensions, from very simple one-dimensional vectors to rather more complex multidimensional matrices and even tensors. That means diverse data structures can be used.\n",
        "\n",
        "2. **Uniform Data Type:**\n",
        "   Every element in the ndarray is of the same data type for efficient usage of memory along with optimized operations.\n",
        "\n",
        "3. **Efficient Memory Layout:\n",
        " - `ndarrays` are stored as blocks in contiguous memory space; that's why access, especially manipulation of elements is very fast.\n",
        "\n",
        "4. **Vectorized Operations:**\n",
        "   - Vectorized operations in NumPy allow you to apply mathematical functions on entire arrays element-wise, hence speeding up computations by several orders of magnitude compared to traditional loops in Python.\n",
        "\n",
        "5. **Broadcasting:**\n",
        " - Broadcasting is a very powerful technique to perform arithmetic operations between arrays of quite different shapes as long as certain rules are met, and this really simplifies lots of common operations.\n",
        "\n",
        "6. **Indexing and Slicing:**\n",
        " - `ndarrays` support sophisticated indexing and slicing techniques, so you can extract specific subsets of data.\n",
        "\n",
        "7. **Array Shape Manipulation:**\n",
        " - You can reshape, transpose, and flatten `ndarrays` to suit your specific needs.\n",
        "\n",
        "\n",
        "\n",
        "**Conclusion:**\n",
        "\n",
        "NumPy `ndarrays` are powerful data structures in Python for work with numerical data. Their features, including multidimensionality, homogeneity, vectorization, broadcasting, and efficient memory layout, make them indispensable in large areas of scientific computing applications. Their understanding and differences with a Python list open the benefits of NumPy for your data analysis and numerical computations.\n"
      ],
      "metadata": {
        "id": "9nItQnTsj7dp"
      }
    },
    {
      "cell_type": "markdown",
      "source": [
        "Q.6 Analyze the performance benefits of NumPy arrays over Python lists for large-scale numerical operations.\n",
        "\n",
        "Ans. NumPy Arrays vs. Python Lists: A Performance Showdown for Large-Scale Numerical Operations\n",
        "\n",
        "In large-scale numerical computations in Python, using NumPy arrays over the traditional Python lists provides many worthwhile performance gains. Here's the key factors that make it so efficient:\n",
        "\n",
        "1. Memory Efficiency:\n",
        "\n",
        "Homogeneous Data Type:\n",
        "\n",
        " All elements in a NumPy array are of the same type, which makes them use less memory.\n",
        "\n",
        "Contiguous Memory Allocation:\n",
        "\n",
        "NumPy arrays allocate memory contiguously. This provides the possibility of very efficient access to memory and cache residency.\n",
        "2. Vectorised Operations:\n",
        "\n",
        "Broadcasting:\n",
        "\n",
        "Operations on arrays of different shapes or sizes can be done element-wise with the help of NumPy. There is no need for any explicit loops. Due to this vectorization, computations occur significantly faster. Optimized C\n",
        "\n",
        "Implementation :\n",
        "\n",
        "Most NumPy operations are implemented in C to provide the necessary speed for computation compared to interpreted Python loops.\n",
        "3. Advanced Mathematical Functions:\n",
        "\n",
        "Rich Library of Mathematical Functions:\n",
        "\n",
        "NumPy has a wide variety of mathematical functions optimized for element-wise operations in the array, including linear algebra, Fourier transforms, and statistical functions etc.\n",
        "\n",
        "Optimized Algorithms:\n",
        "\n",
        "Most of these are implemented with highly optimized algorithms, hence acceleration in computation.\n",
        "4. Faster Indexing and Slicing:\n",
        "\n",
        "Efficient Indexing :\n",
        "\n",
        "Due to efficient indexing and slicing mechanisms, NumPy offers quicker access to certain elements or subarrays.\n",
        "\n",
        "Real World Performance Comparison:\n",
        "\n",
        "Let's consider a pretty straightforward example: multiplying two large arrays element-wise."
      ],
      "metadata": {
        "id": "f-KQ0tiMyKJN"
      }
    },
    {
      "cell_type": "code",
      "source": [
        "import numpy as np\n",
        "import time\n",
        "\n",
        "# Create large Python lists\n",
        "python_list1 = [i for i in range(1000000)]\n",
        "python_list2 = [i * 2 for i in range(1000000)]\n",
        "\n",
        "# Create NumPy arrays\n",
        "numpy_array1 = np.arange(1000000)\n",
        "numpy_array2 = numpy_array1 * 2\n",
        "\n",
        "# Python list multiplication\n",
        "start_time = time.time()\n",
        "python_result = [x * y for x, y in zip(python_list1, python_list2)]\n",
        "end_time = time.time()\n",
        "python_time = end_time - start_time\n",
        "\n",
        "# NumPy array multiplication\n",
        "start_time = time.time()\n",
        "numpy_result = numpy_array1 * numpy_array2\n",
        "end_time = time.time()\n",
        "numpy_time = end_time - start_time\n",
        "\n",
        "print(\"Python list multiplication time:\", python_time)\n",
        "print(\"NumPy array multiplication time:\", numpy_time)"
      ],
      "metadata": {
        "colab": {
          "base_uri": "https://localhost:8080/"
        },
        "id": "b9tlQnS1iQRj",
        "outputId": "513405d5-80ce-4129-8365-9d3815e0756b"
      },
      "execution_count": null,
      "outputs": [
        {
          "output_type": "stream",
          "name": "stdout",
          "text": [
            "Python list multiplication time: 0.5165672302246094\n",
            "NumPy array multiplication time: 0.01617717742919922\n"
          ]
        }
      ]
    },
    {
      "cell_type": "markdown",
      "source": [
        "Then, vectorized operations with NumPy and optimized C implementation will drastically outperform the list approach in Python as sizes of arrays grow large.\n",
        "\n",
        "Conclusion\n",
        "\n",
        "NumPy arrays are the preferred choice for large-scale numerical operations in Python mainly because of memory efficiency, vectorization capabilities, rich function library, and optimized implementation. Having these benefits, you can run your scientific computing workloads dramatically faster."
      ],
      "metadata": {
        "id": "ZCYH35P0y-mW"
      }
    },
    {
      "cell_type": "markdown",
      "source": [
        "Q.7 Compare vstack() and hstack() functions in NumPy. Provide examples demonstrating their usage and\n",
        "output.\n",
        "\n",
        "Ans. NumPy's vstack() and hstack() functions are powerful tools for stacking arrays vertically and horizontally, respectively.\n",
        "\n",
        "vstack()\n",
        "\n",
        "Purpose: Stacks arrays vertically, meaning it joins them row-wise.\n",
        "Syntax: np.vstack(tup)\n"
      ],
      "metadata": {
        "id": "Ro2rZKUGzJMh"
      }
    },
    {
      "cell_type": "code",
      "source": [
        "#Example:\n",
        "import numpy as np\n",
        "\n",
        "a = np.array([[1, 2], [3, 4]])\n",
        "b = np.array([[5, 6], [7, 8]])\n",
        "\n",
        "c = np.vstack((a, b))\n",
        "print(c)"
      ],
      "metadata": {
        "colab": {
          "base_uri": "https://localhost:8080/"
        },
        "id": "obR_i0cSyUXS",
        "outputId": "b54a728c-333e-465a-e169-4205940fc157"
      },
      "execution_count": null,
      "outputs": [
        {
          "output_type": "stream",
          "name": "stdout",
          "text": [
            "[[1 2]\n",
            " [3 4]\n",
            " [5 6]\n",
            " [7 8]]\n"
          ]
        }
      ]
    },
    {
      "cell_type": "markdown",
      "source": [
        "hstack()\n",
        "\n",
        "Purpose: Stacks arrays horizontally, meaning it joins them column-wise.\n",
        "Syntax: np.hstack(tup)"
      ],
      "metadata": {
        "id": "EmLn1z6SziGR"
      }
    },
    {
      "cell_type": "code",
      "source": [
        "#Example:\n",
        "import numpy as np\n",
        "\n",
        "a = np.array([[1], [2], [3]])\n",
        "b = np.array([[4], [5], [6]])\n",
        "\n",
        "c = np.hstack((a, b))\n",
        "print(c)"
      ],
      "metadata": {
        "colab": {
          "base_uri": "https://localhost:8080/"
        },
        "id": "izEik5UGzfHF",
        "outputId": "d4beabb0-f394-4ca2-dc02-e302dcc42848"
      },
      "execution_count": null,
      "outputs": [
        {
          "output_type": "stream",
          "name": "stdout",
          "text": [
            "[[1 4]\n",
            " [2 5]\n",
            " [3 6]]\n"
          ]
        }
      ]
    },
    {
      "cell_type": "markdown",
      "source": [
        "Key Takeaway:\n",
        "\n",
        "Array Shapes: The arrays to be stacked should have compatible shapes. For vstack(), the columns should be the same in number. For hstack(), the rows should be the same in number.\n",
        "\n",
        "Data Types:\n",
        "\n",
        "Arrays can be of different data types, but NumPy will handle type conversion automatically to ensure compatibility.\n",
        "\n",
        "Efficiency:\n",
        "\n",
        "Both are highly efficient for large arrays, and thus these functions are an important tool in data manipulation and analysis with NumPy.\n",
        "More:\n",
        "\n",
        "For more involved operations of stacking, use np.concatenate() which takes in arguments along which to concatenate.\n",
        "\n",
        "On 1D arrays hstack() and vstack() are not equivalent hstack() concatenates arrays according to the first axis. while vstack() will be treating them as row vectors stacks in the vertical direction.\n",
        "\n",
        "By knowing and using vstack() and hstack() effectively, you can efficiently manipulate and combine arrays in various data science and machine learning tasks."
      ],
      "metadata": {
        "id": "OII6WVnazmzr"
      }
    },
    {
      "cell_type": "markdown",
      "source": [
        "Q.8 Explain the differences between fliplr() and flipud() methods in NumPy, including their effects on various\n",
        "array dimensions.\n",
        "\n",
        "Ans. fliplr() vs. flipud() in NumPy\n",
        "\n",
        "Both fliplr() and flipud() are NumPy functions used to reverse the order of elements along specific axes of an array. However, they operate on different axes:\n",
        "\n",
        "fliplr()\n",
        "\n",
        "1.Flips the array horizontally.\n",
        "\n",
        "2.Reverses the order of elements along the second axis (axis=1).\n",
        "\n",
        "3.For a 2D array, this means flipping the columns.\n",
        "\n",
        "4.For higher-dimensional arrays, it flips the second-to-last axis."
      ],
      "metadata": {
        "id": "sZ70wxBPzhnN"
      }
    },
    {
      "cell_type": "code",
      "source": [
        "#Example:\n",
        "import numpy as np\n",
        "\n",
        "arr = np.array([[1, 2, 3],\n",
        "                [4, 5, 6]])\n",
        "\n",
        "flipped_arr = np.fliplr(arr)\n",
        "print(flipped_arr)"
      ],
      "metadata": {
        "colab": {
          "base_uri": "https://localhost:8080/"
        },
        "id": "oR_KZdfN3HVQ",
        "outputId": "7c674a7b-7b10-4ea6-f8a8-c409cd9b2cf3"
      },
      "execution_count": null,
      "outputs": [
        {
          "output_type": "stream",
          "name": "stdout",
          "text": [
            "[[3 2 1]\n",
            " [6 5 4]]\n"
          ]
        }
      ]
    },
    {
      "cell_type": "markdown",
      "source": [
        "flipud()\n",
        "\n",
        "1.Flips the array vertically.\n",
        "\n",
        "2.Reverses the order of elements along the first axis (axis=0).\n",
        "\n",
        "3.For a 2D array, this means flipping the rows.\n",
        "\n",
        "4.For higher-dimensional arrays, it flips the first axis."
      ],
      "metadata": {
        "id": "2fEWCHy93Yro"
      }
    },
    {
      "cell_type": "code",
      "source": [
        "import numpy as np\n",
        "\n",
        "arr = np.array([[1, 2, 3],\n",
        "                [4, 5, 6]])\n",
        "\n",
        "flipped_arr = np.flipud(arr)\n",
        "print(flipped_arr)"
      ],
      "metadata": {
        "colab": {
          "base_uri": "https://localhost:8080/"
        },
        "id": "mbFIvPQw3KnD",
        "outputId": "6328253b-07a2-4b68-f6c2-7d8ba29a8936"
      },
      "execution_count": null,
      "outputs": [
        {
          "output_type": "stream",
          "name": "stdout",
          "text": [
            "[[4 5 6]\n",
            " [1 2 3]]\n"
          ]
        }
      ]
    },
    {
      "cell_type": "markdown",
      "source": [
        "Note:\n",
        "\n",
        "1.Both operations return a view of the original array so that no copy of the underlying data is actually made.\n",
        "\n",
        "2.To assign new array with data flipped use np.copy().\n",
        "\n",
        "Knowing these differences you may work with arrays in NumPy in order to accomplish most of the things you need for data processing tasks."
      ],
      "metadata": {
        "id": "FnCPXh9r3xGA"
      }
    },
    {
      "cell_type": "markdown",
      "source": [
        "Q.9 Discuss the functionality of the array_split() method in NumPy. How does it handle uneven splits?\n",
        "\n",
        "Ans. NumPy's array_split() Function:\n",
        "\n",
        "A Dive\n",
        "NumPy's array_split() function is a convenient utility used for splitting an array into multiple sub-arrays. This function is highly useful in splitting an array of a certain number of sub-arrays irrespective of whether division has to be done either evenly or unevenly.\n",
        "\n",
        "How array_split() works\n",
        "\n",
        "INPUT\n",
        "\n",
        "1.Array : The array to split\n",
        "\n",
        "2.Sections : Number of desired sections\n",
        "\n",
        "3.Splitting:\n",
        "\n",
        "*Even Split: If the length of the array is evenly divisible by the number of sections, array_split() splits up the array into equal-sized sub-arrays.\n",
        "\n",
        "*Uneven Split: If the division is uneven, then the extra elements are distributed among the first few sub-arrays so that the difference in sizes between sub-arrays is at most 1.\n",
        "\n",
        "*Handling Uneven Splits:\n",
        "Here is an example which shows what happens in an uneven split using array_split():"
      ],
      "metadata": {
        "id": "y6-l1l3231yX"
      }
    },
    {
      "cell_type": "code",
      "source": [
        "import numpy as np\n",
        "\n",
        "arr = np.arange(10)\n",
        "split_arr = np.array_split(arr, 3)\n",
        "\n",
        "print(split_arr)"
      ],
      "metadata": {
        "id": "ERjjN5ZK3olX",
        "colab": {
          "base_uri": "https://localhost:8080/"
        },
        "outputId": "f53349d9-4f2e-450b-e46d-c3d3afe2f903"
      },
      "execution_count": null,
      "outputs": [
        {
          "output_type": "stream",
          "name": "stdout",
          "text": [
            "[array([0, 1, 2, 3]), array([4, 5, 6]), array([7, 8, 9])]\n"
          ]
        }
      ]
    },
    {
      "cell_type": "markdown",
      "source": [
        "Now you can see that the first two elements in each of the sub-arrays are 3 in number, while the last one is 4. This is because 10 is not completely divisible by 3; so the remaining one is added to the last sub-array.\n",
        "\n",
        "Important Points to Remember\n",
        "\n",
        "1.array_split() returns an array of sub-arrays.\n",
        "\n",
        "2.It's flexible and can take both even and uneven splits.\n",
        "\n",
        "3.Alternatively, if you actually need more finely controlled split operations, then perhaps you want to use the split() function, which requires a list of indices that specify the splitting points.\n",
        "\n",
        "4.Understanding how array_split() works could split NumPy arrays into smaller, easier-to-manage pieces for most data processing and analysis tasks."
      ],
      "metadata": {
        "id": "jyi3TE9f9dsn"
      }
    },
    {
      "cell_type": "markdown",
      "source": [
        "Q.10  Explain the concepts of vectorization and broadcasting in NumPy. How do they contribute to efficient array\n",
        "operations?\n",
        "\n",
        "Ans.Vectorization and Broadcasting in NumPy\n",
        "\n",
        "NumPy is a very powerful Python library for general-purpose numerical computation, and the two techniques on which it relies to make array operations efficient are vectorization and broadcasting.\n",
        "\n",
        "Vectorization\n",
        "\n",
        "Vectorization is essentially an approach that replaces explicit, nested loops by optimized computations involving entire arrays at once. Since this takes proper advantage of all hardware-level optimizations, one might anticipate that NumPy would always outperform traditional Python loops and other serial approaches.\n",
        "\n",
        "Array Operations: Many NumPy functions and operators can be used directly on arrays. For example, adding two arrays adds corresponding elements together without needing explicit loops.\n",
        "Broadcasting: Broadcasting refers to allowing NumPy to perform operations on arrays with different shapes provided that are otherwise compatible. This usually occurs by implying the expansion of one or more arrays to match the other's shape.\n",
        "Broadcasting Rules:\n",
        "\n",
        "Shape Compatibility: Arrays must have compatible dimensions. If the dimensions differ, the smaller array is \"stretched\" or \"broadcast\" to match the larger one.\n",
        "Dimension Compatibility: Every dimension of the arrays must be either equal or one of them must be 1.\n",
        "Broadcasting Direction: Broadcasting occurs along the dimensions with size 1."
      ],
      "metadata": {
        "id": "64ishcZF-nqv"
      }
    },
    {
      "cell_type": "code",
      "source": [
        "#Example\n",
        "\n",
        "import numpy as np\n",
        "\n",
        "# Create two arrays\n",
        "a = np.array([1, 2, 3])\n",
        "b = np.array([4, 5, 6])\n",
        "\n",
        "# Vectorized addition\n",
        "c = a + b  # Equivalent to [1+4, 2+5, 3+6]\n",
        "\n",
        "# Broadcasting example\n",
        "d = np.array([[1], [2], [3]])\n",
        "e = np.array([4, 5, 6])\n",
        "\n",
        "f = d + e  # d is broadcast to match the shape of e"
      ],
      "metadata": {
        "id": "xT06Cuop7ioK"
      },
      "execution_count": 1,
      "outputs": []
    },
    {
      "cell_type": "markdown",
      "source": [
        "Advantages of Vectorization and Broadcasting:\n",
        "\n",
        "Efficiency: Without loops in Python, NumPy can take advantage of optimized C-based implementations for considerable performance boosts.\n",
        "Readability: Vectorized code is usually more concise and readable, since it avoids explicit loops and complex indexing.\n",
        "Memory Efficiency: Broadcasting avoids unnecessary memory copies, which makes it memory efficient.\n",
        "\n",
        "Understanding and using vectorization and broadcasting effectively can help you write very efficient and elegant code in NumPy for a wide range of numerical computations."
      ],
      "metadata": {
        "id": "weGcpuWN9qj2"
      }
    },
    {
      "cell_type": "markdown",
      "source": [
        "**Practical Questions:**"
      ],
      "metadata": {
        "id": "RSoXeO3q9vCZ"
      }
    },
    {
      "cell_type": "markdown",
      "source": [
        "Q.1 Create a 3x3 NumPy array with random integers between 1 and 100. Then, interchange its rows and columns."
      ],
      "metadata": {
        "id": "lv3HjDT_92JJ"
      }
    },
    {
      "cell_type": "code",
      "source": [
        "#Ans\n",
        "import numpy as np\n",
        "\n",
        "# Create a 3x3 NumPy array with random integers between 1 and 100\n",
        "array = np.random.randint(1, 101, size=(3, 3))\n",
        "\n",
        "print(\"Original array:\")\n",
        "print(array)\n",
        "\n",
        "# Interchange rows and columns (transpose)\n",
        "array_transposed = array.T\n",
        "\n",
        "print(\"\\nTransposed array:\")\n",
        "print(array_transposed)"
      ],
      "metadata": {
        "colab": {
          "base_uri": "https://localhost:8080/"
        },
        "id": "y9SL6DP59h17",
        "outputId": "0c8ec081-4b47-4084-8a25-58de39fe01a9"
      },
      "execution_count": 2,
      "outputs": [
        {
          "output_type": "stream",
          "name": "stdout",
          "text": [
            "Original array:\n",
            "[[47 95 50]\n",
            " [45 44 58]\n",
            " [18 98 16]]\n",
            "\n",
            "Transposed array:\n",
            "[[47 45 18]\n",
            " [95 44 98]\n",
            " [50 58 16]]\n"
          ]
        }
      ]
    },
    {
      "cell_type": "markdown",
      "source": [
        "Q.2  Generate a 1D NumPy array with 10 elements. Reshape it into a 2x5 array, then into a 5x2 array."
      ],
      "metadata": {
        "id": "8RS3ZWF--IDB"
      }
    },
    {
      "cell_type": "code",
      "source": [
        "#Ans\n",
        "import numpy as np\n",
        "\n",
        "# Create a 1D NumPy array with 10 elements\n",
        "arr = np.arange(10)\n",
        "print(\"1D array:\", arr)\n",
        "\n",
        "# Reshape it into a 2x5 array\n",
        "arr_2x5 = arr.reshape(2, 5)\n",
        "print(\"2x5 array:\\n\", arr_2x5)\n",
        "\n",
        "# Reshape it into a 5x2 array\n",
        "arr_5x2 = arr.reshape(5, 2)\n",
        "print(\"5x2 array:\\n\", arr_5x2)"
      ],
      "metadata": {
        "colab": {
          "base_uri": "https://localhost:8080/"
        },
        "id": "vmdGNoFA-GuT",
        "outputId": "4fbb9d7a-1870-448a-e846-d0ba13051011"
      },
      "execution_count": 3,
      "outputs": [
        {
          "output_type": "stream",
          "name": "stdout",
          "text": [
            "1D array: [0 1 2 3 4 5 6 7 8 9]\n",
            "2x5 array:\n",
            " [[0 1 2 3 4]\n",
            " [5 6 7 8 9]]\n",
            "5x2 array:\n",
            " [[0 1]\n",
            " [2 3]\n",
            " [4 5]\n",
            " [6 7]\n",
            " [8 9]]\n"
          ]
        }
      ]
    },
    {
      "cell_type": "markdown",
      "source": [
        "Q.3  Create a 4x4 NumPy array with random float values. Add a border of zeros around it, resulting in a 6x6 array."
      ],
      "metadata": {
        "id": "RKXO_Kga-bqu"
      }
    },
    {
      "cell_type": "code",
      "source": [
        "#Ans\n",
        "import numpy as np\n",
        "\n",
        "# Create a 4x4 array with random float values\n",
        "array = np.random.rand(4, 4)\n",
        "\n",
        "# Add a border of zeros using np.pad\n",
        "array_with_border = np.pad(array, pad_width=1, mode='constant', constant_values=0)\n",
        "\n",
        "print(array_with_border)"
      ],
      "metadata": {
        "colab": {
          "base_uri": "https://localhost:8080/"
        },
        "id": "7NFyFgmt-UaN",
        "outputId": "4da8c5bd-b2f2-415c-c588-66f2ee36d741"
      },
      "execution_count": 4,
      "outputs": [
        {
          "output_type": "stream",
          "name": "stdout",
          "text": [
            "[[0.         0.         0.         0.         0.         0.        ]\n",
            " [0.         0.8520888  0.57477032 0.55503368 0.00497214 0.        ]\n",
            " [0.         0.55470087 0.06122647 0.46785286 0.2632445  0.        ]\n",
            " [0.         0.55580478 0.11650465 0.23800786 0.09061054 0.        ]\n",
            " [0.         0.91146984 0.94464248 0.35921099 0.2851407  0.        ]\n",
            " [0.         0.         0.         0.         0.         0.        ]]\n"
          ]
        }
      ]
    },
    {
      "cell_type": "markdown",
      "source": [
        "Q.4 Using NumPy, create an array of integers from 10 to 60 with a step of 5."
      ],
      "metadata": {
        "id": "4aHUxdep-mz5"
      }
    },
    {
      "cell_type": "code",
      "source": [
        "#Ans.\n",
        "import numpy as np\n",
        "\n",
        "# Create an array of integers from 10 to 60 with a step of 5\n",
        "array = np.arange(10, 61, 5)\n",
        "\n",
        "print(array)"
      ],
      "metadata": {
        "colab": {
          "base_uri": "https://localhost:8080/"
        },
        "id": "KzHlNBx9-jiV",
        "outputId": "5be11ae5-d651-4fac-89d8-3e7dd42f989c"
      },
      "execution_count": 5,
      "outputs": [
        {
          "output_type": "stream",
          "name": "stdout",
          "text": [
            "[10 15 20 25 30 35 40 45 50 55 60]\n"
          ]
        }
      ]
    },
    {
      "cell_type": "markdown",
      "source": [
        "Q.5 Create a NumPy array of strings ['python', 'numpy', 'pandas']. Apply different case transformations\n",
        "(uppercase, lowercase, title case, etc.) to each element."
      ],
      "metadata": {
        "id": "OanOZZp7-wPI"
      }
    },
    {
      "cell_type": "code",
      "source": [
        "#Ans.\n",
        "import numpy as np\n",
        "\n",
        "# Create a NumPy array of strings\n",
        "arr = np.array(['python', 'numpy', 'pandas'])\n",
        "\n",
        "# Apply different case transformations using vectorized operations from np.char\n",
        "uppercase_arr = np.char.upper(arr)\n",
        "lowercase_arr = np.char.lower(arr)\n",
        "titlecase_arr = np.char.title(arr)\n",
        "\n",
        "print(\"Original array:\", arr)\n",
        "print(\"Uppercase array:\", uppercase_arr)\n",
        "print(\"Lowercase array:\", lowercase_arr)\n",
        "print(\"Titlecase array:\", titlecase_arr)"
      ],
      "metadata": {
        "colab": {
          "base_uri": "https://localhost:8080/"
        },
        "id": "LNtYZyNZ-9-G",
        "outputId": "db448242-1401-4b01-bd96-f9ec77a36a47"
      },
      "execution_count": 7,
      "outputs": [
        {
          "output_type": "stream",
          "name": "stdout",
          "text": [
            "Original array: ['python' 'numpy' 'pandas']\n",
            "Uppercase array: ['PYTHON' 'NUMPY' 'PANDAS']\n",
            "Lowercase array: ['python' 'numpy' 'pandas']\n",
            "Titlecase array: ['Python' 'Numpy' 'Pandas']\n"
          ]
        }
      ]
    },
    {
      "cell_type": "markdown",
      "source": [
        "Q.6 Generate a NumPy array of words. Insert a space between each character of every word in the array."
      ],
      "metadata": {
        "id": "pTofy5Xw_OwJ"
      }
    },
    {
      "cell_type": "code",
      "source": [
        "#Ans.\n",
        "import numpy as np\n",
        "\n",
        "# Create a NumPy array of words\n",
        "words = np.array([\"hello\", \"world\", \"numpy\"])\n",
        "\n",
        "# Insert a space between each character using np.char.join\n",
        "spaced_words = np.char.join(\" \", words)\n",
        "\n",
        "print(spaced_words)"
      ],
      "metadata": {
        "colab": {
          "base_uri": "https://localhost:8080/"
        },
        "id": "xjrWYL3t_JjW",
        "outputId": "47f96993-6a92-4c0c-b062-8cf981265352"
      },
      "execution_count": 8,
      "outputs": [
        {
          "output_type": "stream",
          "name": "stdout",
          "text": [
            "['h e l l o' 'w o r l d' 'n u m p y']\n"
          ]
        }
      ]
    },
    {
      "cell_type": "markdown",
      "source": [
        "Q.7 Create two 2D NumPy arrays and perform element-wise addition, subtraction, multiplication, and division."
      ],
      "metadata": {
        "id": "G_zjtOS-_ZAC"
      }
    },
    {
      "cell_type": "code",
      "source": [
        "#Ans.\n",
        "import numpy as np\n",
        "\n",
        "# Create two 2D NumPy arrays\n",
        "array1 = np.array([[1, 2, 3], [4, 5, 6]])\n",
        "array2 = np.array([[7, 8, 9], [10, 11, 12]])\n",
        "\n",
        "# Element-wise addition\n",
        "addition_result = array1 + array2\n",
        "print(\"Addition:\\n\", addition_result)\n",
        "\n",
        "# Element-wise subtraction\n",
        "subtraction_result = array1 - array2\n",
        "print(\"Subtraction:\\n\", subtraction_result)\n",
        "\n",
        "# Element-wise multiplication\n",
        "multiplication_result = array1 * array2\n",
        "print(\"Multiplication:\\n\", multiplication_result)\n",
        "\n",
        "# Element-wise division\n",
        "division_result = array1 / array2\n",
        "print(\"Division:\\n\", division_result)"
      ],
      "metadata": {
        "colab": {
          "base_uri": "https://localhost:8080/"
        },
        "id": "XLqCbm39_W9B",
        "outputId": "0e0e9330-2a8a-4fd9-c480-c4e9ef93871f"
      },
      "execution_count": 9,
      "outputs": [
        {
          "output_type": "stream",
          "name": "stdout",
          "text": [
            "Addition:\n",
            " [[ 8 10 12]\n",
            " [14 16 18]]\n",
            "Subtraction:\n",
            " [[-6 -6 -6]\n",
            " [-6 -6 -6]]\n",
            "Multiplication:\n",
            " [[ 7 16 27]\n",
            " [40 55 72]]\n",
            "Division:\n",
            " [[0.14285714 0.25       0.33333333]\n",
            " [0.4        0.45454545 0.5       ]]\n"
          ]
        }
      ]
    },
    {
      "cell_type": "markdown",
      "source": [
        "Q.8 Use NumPy to create a 5x5 identity matrix, then extract its diagonal elements."
      ],
      "metadata": {
        "id": "bOCFfDWn_l6w"
      }
    },
    {
      "cell_type": "code",
      "source": [
        "#Ans.\n",
        "import numpy as np\n",
        "\n",
        "# Create a 5x5 identity matrix\n",
        "identity_matrix = np.identity(5)\n",
        "\n",
        "# Extract the diagonal elements\n",
        "diagonal_elements = np.diag(identity_matrix)\n",
        "\n",
        "print(\"Identity Matrix:\")\n",
        "print(identity_matrix)\n",
        "\n",
        "print(\"\\nDiagonal Elements:\")\n",
        "print(diagonal_elements)"
      ],
      "metadata": {
        "colab": {
          "base_uri": "https://localhost:8080/"
        },
        "id": "gkG2TONr_ioB",
        "outputId": "e123f362-d5b5-4b9d-cc76-909e8e7afa05"
      },
      "execution_count": 11,
      "outputs": [
        {
          "output_type": "stream",
          "name": "stdout",
          "text": [
            "Identity Matrix:\n",
            "[[1. 0. 0. 0. 0.]\n",
            " [0. 1. 0. 0. 0.]\n",
            " [0. 0. 1. 0. 0.]\n",
            " [0. 0. 0. 1. 0.]\n",
            " [0. 0. 0. 0. 1.]]\n",
            "\n",
            "Diagonal Elements:\n",
            "[1. 1. 1. 1. 1.]\n"
          ]
        }
      ]
    },
    {
      "cell_type": "markdown",
      "source": [
        "Q.9  Generate a NumPy array of 100 random integers between 0 and 1000. Find and display all prime numbers in\n",
        "this array."
      ],
      "metadata": {
        "id": "uXcveVPv_vfM"
      }
    },
    {
      "cell_type": "code",
      "source": [
        "#ans.\n",
        "import numpy as np\n",
        "\n",
        "# Generate an array of 100 random integers between 0 and 1000\n",
        "random_integers = np.random.randint(0, 1001, size=100)\n",
        "\n",
        "# Function to check if a number is prime\n",
        "def is_prime(n):\n",
        "    if n <= 1:\n",
        "        return False\n",
        "    for i in range(2, int(n**0.5) + 1):\n",
        "        if n % i == 0:\n",
        "            return False\n",
        "    return True\n",
        "\n",
        "# Find and display all prime numbers in the array\n",
        "prime_numbers = [num for num in random_integers if is_prime(num)]\n",
        "print(\"Random Integers:\", random_integers)\n",
        "print(\"Prime Numbers:\", prime_numbers)"
      ],
      "metadata": {
        "colab": {
          "base_uri": "https://localhost:8080/"
        },
        "id": "W4yCPzGP_rnY",
        "outputId": "1edb67e1-a209-462a-a3da-9b432f514fe8"
      },
      "execution_count": 12,
      "outputs": [
        {
          "output_type": "stream",
          "name": "stdout",
          "text": [
            "Random Integers: [173 896 972 855 471 807 181 794 173 869 100  71  73  44 761 118 581 886\n",
            " 695 973 826 728 839 130 164 726  33 353 273  91 169 962 905  84 321 462\n",
            "  21 682 515 175 679 755 978  53 196 608   4 537  50 870 572 314 252 160\n",
            " 968 277 398   4 201 871 616 636 376  58 849 353 267 195 709 553 580  36\n",
            " 654 159 708 107 174 117 452 821 844 318 427  47 621 750 285 562 628 116\n",
            "  41  39 933 423  12 295 486 848 701 264]\n",
            "Prime Numbers: [173, 181, 173, 71, 73, 761, 839, 353, 53, 277, 353, 709, 107, 821, 47, 41, 701]\n"
          ]
        }
      ]
    },
    {
      "cell_type": "markdown",
      "source": [
        "Q.10 . Create a NumPy array representing daily temperatures for a month. Calculate and display the weekly\n",
        "averages."
      ],
      "metadata": {
        "id": "bQZN9M5JBfnf"
      }
    },
    {
      "cell_type": "code",
      "source": [
        "#Ans.\n",
        "\n",
        "#Ans.\n",
        "import numpy as np\n",
        "\n",
        "# Create a NumPy array representing daily temperatures for a month\n",
        "daily_temperatures = np.random.randint(low=15, high=35, size=30)  # Random temperatures between 15 and 35 degrees\n",
        "\n",
        "# Reshape the array to have 5 weeks (6 days each) to match the total of 30 days\n",
        "# and calculate weekly averages\n",
        "# NOTE: Adjusted the reshape to (5, 6) to accommodate 30 elements\n",
        "weekly_averages = daily_temperatures.reshape(5, 6).mean(axis=1)\n",
        "\n",
        "# Display the results\n",
        "print(\"Daily Temperatures:\", daily_temperatures)\n",
        "print(\"Weekly Averages:\", weekly_averages)"
      ],
      "metadata": {
        "colab": {
          "base_uri": "https://localhost:8080/"
        },
        "id": "-9MfIGJkBtkE",
        "outputId": "1d9a9c69-8d7e-466e-d1c7-eacf654581da"
      },
      "execution_count": 14,
      "outputs": [
        {
          "output_type": "stream",
          "name": "stdout",
          "text": [
            "Daily Temperatures: [30 21 29 21 18 23 25 15 18 17 15 33 31 25 19 30 21 21 16 34 24 19 15 32\n",
            " 29 22 27 24 30 29]\n",
            "Weekly Averages: [23.66666667 20.5        24.5        23.33333333 26.83333333]\n"
          ]
        }
      ]
    },
    {
      "cell_type": "code",
      "source": [],
      "metadata": {
        "id": "Mc0xU-F9CAIP"
      },
      "execution_count": null,
      "outputs": []
    }
  ]
}